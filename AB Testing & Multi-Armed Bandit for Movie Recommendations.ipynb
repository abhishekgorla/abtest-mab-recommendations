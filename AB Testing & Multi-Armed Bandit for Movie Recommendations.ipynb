{
 "cells": [
  {
   "cell_type": "code",
   "execution_count": 1,
   "id": "3d3bc9ff-3916-4c67-b017-5510cd10716d",
   "metadata": {},
   "outputs": [],
   "source": [
    "import pandas as pd\n",
    "import numpy as np\n",
    "import matplotlib.pyplot as plt\n",
    "from sklearn.model_selection import train_test_split"
   ]
  },
  {
   "cell_type": "code",
   "execution_count": 2,
   "id": "819c8956-b8dd-4a5e-bb32-57d773208cb9",
   "metadata": {},
   "outputs": [],
   "source": [
    "# Load MovieLens dataset\n",
    "def load_movielens_data():\n",
    "    url = \"https://files.grouplens.org/datasets/movielens/ml-100k/u.data\"\n",
    "    df = pd.read_csv(url, sep='\\t', names=['user_id', 'item_id', 'rating', 'timestamp'])\n",
    "    return df"
   ]
  },
  {
   "cell_type": "code",
   "execution_count": 3,
   "id": "50974b2d-1036-4953-bfea-42b43f515dba",
   "metadata": {},
   "outputs": [],
   "source": [
    "# Split into control (A) and treatment (B) groups\n",
    "def split_data(df):\n",
    "    df['group'] = np.random.choice(['A', 'B'], size=len(df), p=[0.5, 0.5])\n",
    "    return df\n"
   ]
  },
  {
   "cell_type": "code",
   "execution_count": 4,
   "id": "8cc3fa06-5ec6-43da-bf57-a088514c316a",
   "metadata": {},
   "outputs": [],
   "source": [
    "# Compute A/B test metrics\n",
    "def ab_test_results(df):\n",
    "    avg_rating_A = df[df['group'] == 'A']['rating'].mean()\n",
    "    avg_rating_B = df[df['group'] == 'B']['rating'].mean()\n",
    "    uplift = ((avg_rating_B - avg_rating_A) / avg_rating_A) * 100\n",
    "\n",
    "    print(f\"Average Rating in Control (A): {avg_rating_A:.2f}\")\n",
    "    print(f\"Average Rating in Treatment (B): {avg_rating_B:.2f}\")\n",
    "    print(f\"Percentage Uplift: {uplift:.2f}%\")"
   ]
  },
  {
   "cell_type": "code",
   "execution_count": 5,
   "id": "ef54a7cf-178e-4293-953f-a3f96b4ba09f",
   "metadata": {},
   "outputs": [],
   "source": [
    "# Multi-Armed Bandit (Epsilon-Greedy)\n",
    "def multi_armed_bandit(df, epsilon=0.1, iterations=1000):\n",
    "    movie_rewards = {}\n",
    "    movie_counts = {}\n",
    "\n",
    "    for i in range(iterations):\n",
    "        if np.random.rand() < epsilon:\n",
    "            selected_movie = np.random.choice(df['item_id'].unique())  # Explore\n",
    "        else:\n",
    "            if movie_rewards:\n",
    "                selected_movie = max(movie_rewards, key=lambda k: movie_rewards[k] / movie_counts[k])  # Exploit\n",
    "            else:\n",
    "                selected_movie = np.random.choice(df['item_id'].unique())\n",
    "\n",
    "        reward = df[df['item_id'] == selected_movie]['rating'].mean()\n",
    "\n",
    "        if selected_movie in movie_rewards:\n",
    "            movie_rewards[selected_movie] += reward\n",
    "            movie_counts[selected_movie] += 1\n",
    "        else:\n",
    "            movie_rewards[selected_movie] = reward\n",
    "            movie_counts[selected_movie] = 1\n",
    "\n",
    "    best_movie = max(movie_rewards, key=lambda k: movie_rewards[k] / movie_counts[k])\n",
    "    print(f\"Best movie selected by Multi-Armed Bandit: {best_movie}\")"
   ]
  },
  {
   "cell_type": "code",
   "execution_count": 6,
   "id": "07cd5e08-d16a-453a-9302-c2bd054d0969",
   "metadata": {},
   "outputs": [
    {
     "name": "stdout",
     "output_type": "stream",
     "text": [
      "Average Rating in Control (A): 3.53\n",
      "Average Rating in Treatment (B): 3.53\n",
      "Percentage Uplift: -0.07%\n",
      "Best movie selected by Multi-Armed Bandit: 127\n"
     ]
    }
   ],
   "source": [
    "# Run the experiment\n",
    "df = load_movielens_data()\n",
    "df = split_data(df)\n",
    "ab_test_results(df)\n",
    "multi_armed_bandit(df)"
   ]
  },
  {
   "cell_type": "code",
   "execution_count": null,
   "id": "43fcad61-1398-4c90-a5cf-0eaac34a54ab",
   "metadata": {},
   "outputs": [],
   "source": []
  }
 ],
 "metadata": {
  "kernelspec": {
   "display_name": "Python 3 (ipykernel)",
   "language": "python",
   "name": "python3"
  },
  "language_info": {
   "codemirror_mode": {
    "name": "ipython",
    "version": 3
   },
   "file_extension": ".py",
   "mimetype": "text/x-python",
   "name": "python",
   "nbconvert_exporter": "python",
   "pygments_lexer": "ipython3",
   "version": "3.12.7"
  }
 },
 "nbformat": 4,
 "nbformat_minor": 5
}
